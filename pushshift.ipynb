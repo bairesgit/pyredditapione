{
 "cells": [
  {
   "cell_type": "code",
   "execution_count": 1,
   "id": "230c8556",
   "metadata": {},
   "outputs": [
    {
     "name": "stdout",
     "output_type": "stream",
     "text": [
      "                                                data\n",
      "0  {'all_awardings': [], 'archived': False, 'asso...\n",
      "1  {'all_awardings': [], 'archived': False, 'asso...\n",
      "2  {'all_awardings': [], 'archived': False, 'asso...\n",
      "3  {'all_awardings': [], 'archived': False, 'asso...\n",
      "4  {'all_awardings': [], 'archived': False, 'asso...\n",
      "5  {'all_awardings': [], 'archived': False, 'asso...\n",
      "6  {'all_awardings': [], 'archived': False, 'asso...\n",
      "7  {'all_awardings': [], 'archived': False, 'asso...\n",
      "8  {'all_awardings': [], 'archived': False, 'asso...\n",
      "9  {'all_awardings': [], 'archived': False, 'asso...\n"
     ]
    }
   ],
   "source": [
    "# python pushshift.py\n",
    "\n",
    "import requests\n",
    "query=\"seo\" #Define Your Query\n",
    "url = f\"https://api.pushshift.io/reddit/search/comment/?q={query}\"\n",
    "request = requests.get(url)\n",
    "json_response = request.json()\n",
    "json_response\n",
    "\n",
    "# Step #1: Create a Function to Call Pushshift AP\n",
    "def get_pushshift_data(data_type, **kwargs):\n",
    "    \"\"\"\n",
    "    Gets data from the pushshift api.\n",
    " \n",
    "    data_type can be 'comment' or 'submission'\n",
    "    The rest of the args are interpreted as payload.\n",
    " \n",
    "    Read more: https://github.com/pushshift/api\n",
    "    \"\"\"\n",
    " \n",
    "    base_url = f\"https://api.pushshift.io/reddit/search/{data_type}/\"\n",
    "    payload = kwargs\n",
    "    request = requests.get(base_url, params=payload)\n",
    "    return request.json()\n",
    "\t\n",
    "# Step #2: Define Your Parameters\n",
    "data_type=\"comment\"     # give me comments, use \"submission\" to publish something\n",
    "query=\"python\"          # Add your query\n",
    "duration=\"30d\"          # Select the timeframe. Epoch value or Integer + \"s,m,h,d\" (i.e. \"second\", \"minute\", \"hour\", \"day\")\n",
    "size=1000               # maximum 1000 comments\n",
    "sort_type=\"score\"       # Sort by score (Accepted: \"score\", \"num_comments\", \"created_utc\")\n",
    "sort=\"desc\"             # sort descending\n",
    "aggs=\"subreddit\"        #\"author\", \"link_id\", \"created_utc\", \"subreddit\"\n",
    "\n",
    "# Step #3: Make the Reddit API Call\n",
    "get_pushshift_data(data_type=data_type,     \n",
    "                   q=query,                 \n",
    "                   after=duration,          \n",
    "                   size=size,               \n",
    "                   sort_type=sort_type,\n",
    "                   sort=sort)\n",
    "\t\t\t\t   \n",
    "# Step #4: Find in Which Subreddit is Talking More About Your Keyword   \n",
    "data = get_pushshift_data(data_type=data_type,\n",
    "                          q=query,\n",
    "                          after=duration,\n",
    "                          size=size,\n",
    "                          aggs=aggs)\n",
    "\t\t\t\t\t\t  \n",
    "#data = data.get(\"aggs\").get(aggs)\n",
    "\t\t\t\t   \n",
    "# Step #5: Add the Data to a Data Frame\n",
    "import pandas as pd\n",
    "df = pd.DataFrame.from_records(data)[0:10]\n",
    "print(df)"
   ]
  },
  {
   "cell_type": "code",
   "execution_count": 9,
   "id": "a1eaa59e",
   "metadata": {},
   "outputs": [
    {
     "data": {
      "application/vnd.plotly.v1+json": {
       "config": {
        "plotlyServerURL": "https://plot.ly"
       },
       "data": [
        {
         "alignmentgroup": "True",
         "hovertemplate": "subreddit=%{x}<br>score=%{y}<extra></extra>",
         "legendgroup": "",
         "marker": {
          "color": "#1f77b4",
          "pattern": {
           "shape": ""
          }
         },
         "name": "",
         "offsetgroup": "",
         "orientation": "v",
         "showlegend": false,
         "textposition": "auto",
         "type": "bar",
         "x": [
          "neoliberal",
          "teenagersbutpog",
          "reptiles",
          "neoliberal",
          "dataengineering",
          "ti84hacks",
          "ProgrammerHumor",
          "Python",
          "datascience",
          "antiwork"
         ],
         "xaxis": "x",
         "y": [
          2,
          2,
          2,
          2,
          1,
          1,
          1,
          1,
          1,
          1
         ],
         "yaxis": "y"
        }
       ],
       "layout": {
        "barmode": "relative",
        "height": 500,
        "legend": {
         "tracegroupgap": 0
        },
        "template": {
         "data": {
          "bar": [
           {
            "error_x": {
             "color": "#2a3f5f"
            },
            "error_y": {
             "color": "#2a3f5f"
            },
            "marker": {
             "line": {
              "color": "#E5ECF6",
              "width": 0.5
             },
             "pattern": {
              "fillmode": "overlay",
              "size": 10,
              "solidity": 0.2
             }
            },
            "type": "bar"
           }
          ],
          "barpolar": [
           {
            "marker": {
             "line": {
              "color": "#E5ECF6",
              "width": 0.5
             },
             "pattern": {
              "fillmode": "overlay",
              "size": 10,
              "solidity": 0.2
             }
            },
            "type": "barpolar"
           }
          ],
          "carpet": [
           {
            "aaxis": {
             "endlinecolor": "#2a3f5f",
             "gridcolor": "white",
             "linecolor": "white",
             "minorgridcolor": "white",
             "startlinecolor": "#2a3f5f"
            },
            "baxis": {
             "endlinecolor": "#2a3f5f",
             "gridcolor": "white",
             "linecolor": "white",
             "minorgridcolor": "white",
             "startlinecolor": "#2a3f5f"
            },
            "type": "carpet"
           }
          ],
          "choropleth": [
           {
            "colorbar": {
             "outlinewidth": 0,
             "ticks": ""
            },
            "type": "choropleth"
           }
          ],
          "contour": [
           {
            "colorbar": {
             "outlinewidth": 0,
             "ticks": ""
            },
            "colorscale": [
             [
              0,
              "#0d0887"
             ],
             [
              0.1111111111111111,
              "#46039f"
             ],
             [
              0.2222222222222222,
              "#7201a8"
             ],
             [
              0.3333333333333333,
              "#9c179e"
             ],
             [
              0.4444444444444444,
              "#bd3786"
             ],
             [
              0.5555555555555556,
              "#d8576b"
             ],
             [
              0.6666666666666666,
              "#ed7953"
             ],
             [
              0.7777777777777778,
              "#fb9f3a"
             ],
             [
              0.8888888888888888,
              "#fdca26"
             ],
             [
              1,
              "#f0f921"
             ]
            ],
            "type": "contour"
           }
          ],
          "contourcarpet": [
           {
            "colorbar": {
             "outlinewidth": 0,
             "ticks": ""
            },
            "type": "contourcarpet"
           }
          ],
          "heatmap": [
           {
            "colorbar": {
             "outlinewidth": 0,
             "ticks": ""
            },
            "colorscale": [
             [
              0,
              "#0d0887"
             ],
             [
              0.1111111111111111,
              "#46039f"
             ],
             [
              0.2222222222222222,
              "#7201a8"
             ],
             [
              0.3333333333333333,
              "#9c179e"
             ],
             [
              0.4444444444444444,
              "#bd3786"
             ],
             [
              0.5555555555555556,
              "#d8576b"
             ],
             [
              0.6666666666666666,
              "#ed7953"
             ],
             [
              0.7777777777777778,
              "#fb9f3a"
             ],
             [
              0.8888888888888888,
              "#fdca26"
             ],
             [
              1,
              "#f0f921"
             ]
            ],
            "type": "heatmap"
           }
          ],
          "heatmapgl": [
           {
            "colorbar": {
             "outlinewidth": 0,
             "ticks": ""
            },
            "colorscale": [
             [
              0,
              "#0d0887"
             ],
             [
              0.1111111111111111,
              "#46039f"
             ],
             [
              0.2222222222222222,
              "#7201a8"
             ],
             [
              0.3333333333333333,
              "#9c179e"
             ],
             [
              0.4444444444444444,
              "#bd3786"
             ],
             [
              0.5555555555555556,
              "#d8576b"
             ],
             [
              0.6666666666666666,
              "#ed7953"
             ],
             [
              0.7777777777777778,
              "#fb9f3a"
             ],
             [
              0.8888888888888888,
              "#fdca26"
             ],
             [
              1,
              "#f0f921"
             ]
            ],
            "type": "heatmapgl"
           }
          ],
          "histogram": [
           {
            "marker": {
             "pattern": {
              "fillmode": "overlay",
              "size": 10,
              "solidity": 0.2
             }
            },
            "type": "histogram"
           }
          ],
          "histogram2d": [
           {
            "colorbar": {
             "outlinewidth": 0,
             "ticks": ""
            },
            "colorscale": [
             [
              0,
              "#0d0887"
             ],
             [
              0.1111111111111111,
              "#46039f"
             ],
             [
              0.2222222222222222,
              "#7201a8"
             ],
             [
              0.3333333333333333,
              "#9c179e"
             ],
             [
              0.4444444444444444,
              "#bd3786"
             ],
             [
              0.5555555555555556,
              "#d8576b"
             ],
             [
              0.6666666666666666,
              "#ed7953"
             ],
             [
              0.7777777777777778,
              "#fb9f3a"
             ],
             [
              0.8888888888888888,
              "#fdca26"
             ],
             [
              1,
              "#f0f921"
             ]
            ],
            "type": "histogram2d"
           }
          ],
          "histogram2dcontour": [
           {
            "colorbar": {
             "outlinewidth": 0,
             "ticks": ""
            },
            "colorscale": [
             [
              0,
              "#0d0887"
             ],
             [
              0.1111111111111111,
              "#46039f"
             ],
             [
              0.2222222222222222,
              "#7201a8"
             ],
             [
              0.3333333333333333,
              "#9c179e"
             ],
             [
              0.4444444444444444,
              "#bd3786"
             ],
             [
              0.5555555555555556,
              "#d8576b"
             ],
             [
              0.6666666666666666,
              "#ed7953"
             ],
             [
              0.7777777777777778,
              "#fb9f3a"
             ],
             [
              0.8888888888888888,
              "#fdca26"
             ],
             [
              1,
              "#f0f921"
             ]
            ],
            "type": "histogram2dcontour"
           }
          ],
          "mesh3d": [
           {
            "colorbar": {
             "outlinewidth": 0,
             "ticks": ""
            },
            "type": "mesh3d"
           }
          ],
          "parcoords": [
           {
            "line": {
             "colorbar": {
              "outlinewidth": 0,
              "ticks": ""
             }
            },
            "type": "parcoords"
           }
          ],
          "pie": [
           {
            "automargin": true,
            "type": "pie"
           }
          ],
          "scatter": [
           {
            "marker": {
             "colorbar": {
              "outlinewidth": 0,
              "ticks": ""
             }
            },
            "type": "scatter"
           }
          ],
          "scatter3d": [
           {
            "line": {
             "colorbar": {
              "outlinewidth": 0,
              "ticks": ""
             }
            },
            "marker": {
             "colorbar": {
              "outlinewidth": 0,
              "ticks": ""
             }
            },
            "type": "scatter3d"
           }
          ],
          "scattercarpet": [
           {
            "marker": {
             "colorbar": {
              "outlinewidth": 0,
              "ticks": ""
             }
            },
            "type": "scattercarpet"
           }
          ],
          "scattergeo": [
           {
            "marker": {
             "colorbar": {
              "outlinewidth": 0,
              "ticks": ""
             }
            },
            "type": "scattergeo"
           }
          ],
          "scattergl": [
           {
            "marker": {
             "colorbar": {
              "outlinewidth": 0,
              "ticks": ""
             }
            },
            "type": "scattergl"
           }
          ],
          "scattermapbox": [
           {
            "marker": {
             "colorbar": {
              "outlinewidth": 0,
              "ticks": ""
             }
            },
            "type": "scattermapbox"
           }
          ],
          "scatterpolar": [
           {
            "marker": {
             "colorbar": {
              "outlinewidth": 0,
              "ticks": ""
             }
            },
            "type": "scatterpolar"
           }
          ],
          "scatterpolargl": [
           {
            "marker": {
             "colorbar": {
              "outlinewidth": 0,
              "ticks": ""
             }
            },
            "type": "scatterpolargl"
           }
          ],
          "scatterternary": [
           {
            "marker": {
             "colorbar": {
              "outlinewidth": 0,
              "ticks": ""
             }
            },
            "type": "scatterternary"
           }
          ],
          "surface": [
           {
            "colorbar": {
             "outlinewidth": 0,
             "ticks": ""
            },
            "colorscale": [
             [
              0,
              "#0d0887"
             ],
             [
              0.1111111111111111,
              "#46039f"
             ],
             [
              0.2222222222222222,
              "#7201a8"
             ],
             [
              0.3333333333333333,
              "#9c179e"
             ],
             [
              0.4444444444444444,
              "#bd3786"
             ],
             [
              0.5555555555555556,
              "#d8576b"
             ],
             [
              0.6666666666666666,
              "#ed7953"
             ],
             [
              0.7777777777777778,
              "#fb9f3a"
             ],
             [
              0.8888888888888888,
              "#fdca26"
             ],
             [
              1,
              "#f0f921"
             ]
            ],
            "type": "surface"
           }
          ],
          "table": [
           {
            "cells": {
             "fill": {
              "color": "#EBF0F8"
             },
             "line": {
              "color": "white"
             }
            },
            "header": {
             "fill": {
              "color": "#C8D4E3"
             },
             "line": {
              "color": "white"
             }
            },
            "type": "table"
           }
          ]
         },
         "layout": {
          "annotationdefaults": {
           "arrowcolor": "#2a3f5f",
           "arrowhead": 0,
           "arrowwidth": 1
          },
          "autotypenumbers": "strict",
          "coloraxis": {
           "colorbar": {
            "outlinewidth": 0,
            "ticks": ""
           }
          },
          "colorscale": {
           "diverging": [
            [
             0,
             "#8e0152"
            ],
            [
             0.1,
             "#c51b7d"
            ],
            [
             0.2,
             "#de77ae"
            ],
            [
             0.3,
             "#f1b6da"
            ],
            [
             0.4,
             "#fde0ef"
            ],
            [
             0.5,
             "#f7f7f7"
            ],
            [
             0.6,
             "#e6f5d0"
            ],
            [
             0.7,
             "#b8e186"
            ],
            [
             0.8,
             "#7fbc41"
            ],
            [
             0.9,
             "#4d9221"
            ],
            [
             1,
             "#276419"
            ]
           ],
           "sequential": [
            [
             0,
             "#0d0887"
            ],
            [
             0.1111111111111111,
             "#46039f"
            ],
            [
             0.2222222222222222,
             "#7201a8"
            ],
            [
             0.3333333333333333,
             "#9c179e"
            ],
            [
             0.4444444444444444,
             "#bd3786"
            ],
            [
             0.5555555555555556,
             "#d8576b"
            ],
            [
             0.6666666666666666,
             "#ed7953"
            ],
            [
             0.7777777777777778,
             "#fb9f3a"
            ],
            [
             0.8888888888888888,
             "#fdca26"
            ],
            [
             1,
             "#f0f921"
            ]
           ],
           "sequentialminus": [
            [
             0,
             "#0d0887"
            ],
            [
             0.1111111111111111,
             "#46039f"
            ],
            [
             0.2222222222222222,
             "#7201a8"
            ],
            [
             0.3333333333333333,
             "#9c179e"
            ],
            [
             0.4444444444444444,
             "#bd3786"
            ],
            [
             0.5555555555555556,
             "#d8576b"
            ],
            [
             0.6666666666666666,
             "#ed7953"
            ],
            [
             0.7777777777777778,
             "#fb9f3a"
            ],
            [
             0.8888888888888888,
             "#fdca26"
            ],
            [
             1,
             "#f0f921"
            ]
           ]
          },
          "colorway": [
           "#636efa",
           "#EF553B",
           "#00cc96",
           "#ab63fa",
           "#FFA15A",
           "#19d3f3",
           "#FF6692",
           "#B6E880",
           "#FF97FF",
           "#FECB52"
          ],
          "font": {
           "color": "#2a3f5f"
          },
          "geo": {
           "bgcolor": "white",
           "lakecolor": "white",
           "landcolor": "#E5ECF6",
           "showlakes": true,
           "showland": true,
           "subunitcolor": "white"
          },
          "hoverlabel": {
           "align": "left"
          },
          "hovermode": "closest",
          "mapbox": {
           "style": "light"
          },
          "paper_bgcolor": "white",
          "plot_bgcolor": "#E5ECF6",
          "polar": {
           "angularaxis": {
            "gridcolor": "white",
            "linecolor": "white",
            "ticks": ""
           },
           "bgcolor": "#E5ECF6",
           "radialaxis": {
            "gridcolor": "white",
            "linecolor": "white",
            "ticks": ""
           }
          },
          "scene": {
           "xaxis": {
            "backgroundcolor": "#E5ECF6",
            "gridcolor": "white",
            "gridwidth": 2,
            "linecolor": "white",
            "showbackground": true,
            "ticks": "",
            "zerolinecolor": "white"
           },
           "yaxis": {
            "backgroundcolor": "#E5ECF6",
            "gridcolor": "white",
            "gridwidth": 2,
            "linecolor": "white",
            "showbackground": true,
            "ticks": "",
            "zerolinecolor": "white"
           },
           "zaxis": {
            "backgroundcolor": "#E5ECF6",
            "gridcolor": "white",
            "gridwidth": 2,
            "linecolor": "white",
            "showbackground": true,
            "ticks": "",
            "zerolinecolor": "white"
           }
          },
          "shapedefaults": {
           "line": {
            "color": "#2a3f5f"
           }
          },
          "ternary": {
           "aaxis": {
            "gridcolor": "white",
            "linecolor": "white",
            "ticks": ""
           },
           "baxis": {
            "gridcolor": "white",
            "linecolor": "white",
            "ticks": ""
           },
           "bgcolor": "#E5ECF6",
           "caxis": {
            "gridcolor": "white",
            "linecolor": "white",
            "ticks": ""
           }
          },
          "title": {
           "x": 0.05
          },
          "xaxis": {
           "automargin": true,
           "gridcolor": "white",
           "linecolor": "white",
           "ticks": "",
           "title": {
            "standoff": 15
           },
           "zerolinecolor": "white",
           "zerolinewidth": 2
          },
          "yaxis": {
           "automargin": true,
           "gridcolor": "white",
           "linecolor": "white",
           "ticks": "",
           "title": {
            "standoff": 15
           },
           "zerolinecolor": "white",
           "zerolinewidth": 2
          }
         }
        },
        "title": {
         "text": "Subreddits with most activity - comments with \"python\" in the last \"30d\""
        },
        "width": 800,
        "xaxis": {
         "anchor": "y",
         "domain": [
          0,
          1
         ],
         "title": {
          "text": "subreddit"
         }
        },
        "yaxis": {
         "anchor": "x",
         "domain": [
          0,
          1
         ],
         "title": {
          "text": "score"
         }
        }
       }
      },
      "text/html": [
       "<div>                            <div id=\"b98d9817-be68-4a54-a74f-e838428364e9\" class=\"plotly-graph-div\" style=\"height:500px; width:800px;\"></div>            <script type=\"text/javascript\">                require([\"plotly\"], function(Plotly) {                    window.PLOTLYENV=window.PLOTLYENV || {};                                    if (document.getElementById(\"b98d9817-be68-4a54-a74f-e838428364e9\")) {                    Plotly.newPlot(                        \"b98d9817-be68-4a54-a74f-e838428364e9\",                        [{\"alignmentgroup\":\"True\",\"hovertemplate\":\"subreddit=%{x}<br>score=%{y}<extra></extra>\",\"legendgroup\":\"\",\"marker\":{\"color\":\"#1f77b4\",\"pattern\":{\"shape\":\"\"}},\"name\":\"\",\"offsetgroup\":\"\",\"orientation\":\"v\",\"showlegend\":false,\"textposition\":\"auto\",\"x\":[\"neoliberal\",\"teenagersbutpog\",\"reptiles\",\"neoliberal\",\"dataengineering\",\"ti84hacks\",\"ProgrammerHumor\",\"Python\",\"datascience\",\"antiwork\"],\"xaxis\":\"x\",\"y\":[2,2,2,2,1,1,1,1,1,1],\"yaxis\":\"y\",\"type\":\"bar\"}],                        {\"template\":{\"data\":{\"bar\":[{\"error_x\":{\"color\":\"#2a3f5f\"},\"error_y\":{\"color\":\"#2a3f5f\"},\"marker\":{\"line\":{\"color\":\"#E5ECF6\",\"width\":0.5},\"pattern\":{\"fillmode\":\"overlay\",\"size\":10,\"solidity\":0.2}},\"type\":\"bar\"}],\"barpolar\":[{\"marker\":{\"line\":{\"color\":\"#E5ECF6\",\"width\":0.5},\"pattern\":{\"fillmode\":\"overlay\",\"size\":10,\"solidity\":0.2}},\"type\":\"barpolar\"}],\"carpet\":[{\"aaxis\":{\"endlinecolor\":\"#2a3f5f\",\"gridcolor\":\"white\",\"linecolor\":\"white\",\"minorgridcolor\":\"white\",\"startlinecolor\":\"#2a3f5f\"},\"baxis\":{\"endlinecolor\":\"#2a3f5f\",\"gridcolor\":\"white\",\"linecolor\":\"white\",\"minorgridcolor\":\"white\",\"startlinecolor\":\"#2a3f5f\"},\"type\":\"carpet\"}],\"choropleth\":[{\"colorbar\":{\"outlinewidth\":0,\"ticks\":\"\"},\"type\":\"choropleth\"}],\"contour\":[{\"colorbar\":{\"outlinewidth\":0,\"ticks\":\"\"},\"colorscale\":[[0.0,\"#0d0887\"],[0.1111111111111111,\"#46039f\"],[0.2222222222222222,\"#7201a8\"],[0.3333333333333333,\"#9c179e\"],[0.4444444444444444,\"#bd3786\"],[0.5555555555555556,\"#d8576b\"],[0.6666666666666666,\"#ed7953\"],[0.7777777777777778,\"#fb9f3a\"],[0.8888888888888888,\"#fdca26\"],[1.0,\"#f0f921\"]],\"type\":\"contour\"}],\"contourcarpet\":[{\"colorbar\":{\"outlinewidth\":0,\"ticks\":\"\"},\"type\":\"contourcarpet\"}],\"heatmap\":[{\"colorbar\":{\"outlinewidth\":0,\"ticks\":\"\"},\"colorscale\":[[0.0,\"#0d0887\"],[0.1111111111111111,\"#46039f\"],[0.2222222222222222,\"#7201a8\"],[0.3333333333333333,\"#9c179e\"],[0.4444444444444444,\"#bd3786\"],[0.5555555555555556,\"#d8576b\"],[0.6666666666666666,\"#ed7953\"],[0.7777777777777778,\"#fb9f3a\"],[0.8888888888888888,\"#fdca26\"],[1.0,\"#f0f921\"]],\"type\":\"heatmap\"}],\"heatmapgl\":[{\"colorbar\":{\"outlinewidth\":0,\"ticks\":\"\"},\"colorscale\":[[0.0,\"#0d0887\"],[0.1111111111111111,\"#46039f\"],[0.2222222222222222,\"#7201a8\"],[0.3333333333333333,\"#9c179e\"],[0.4444444444444444,\"#bd3786\"],[0.5555555555555556,\"#d8576b\"],[0.6666666666666666,\"#ed7953\"],[0.7777777777777778,\"#fb9f3a\"],[0.8888888888888888,\"#fdca26\"],[1.0,\"#f0f921\"]],\"type\":\"heatmapgl\"}],\"histogram\":[{\"marker\":{\"pattern\":{\"fillmode\":\"overlay\",\"size\":10,\"solidity\":0.2}},\"type\":\"histogram\"}],\"histogram2d\":[{\"colorbar\":{\"outlinewidth\":0,\"ticks\":\"\"},\"colorscale\":[[0.0,\"#0d0887\"],[0.1111111111111111,\"#46039f\"],[0.2222222222222222,\"#7201a8\"],[0.3333333333333333,\"#9c179e\"],[0.4444444444444444,\"#bd3786\"],[0.5555555555555556,\"#d8576b\"],[0.6666666666666666,\"#ed7953\"],[0.7777777777777778,\"#fb9f3a\"],[0.8888888888888888,\"#fdca26\"],[1.0,\"#f0f921\"]],\"type\":\"histogram2d\"}],\"histogram2dcontour\":[{\"colorbar\":{\"outlinewidth\":0,\"ticks\":\"\"},\"colorscale\":[[0.0,\"#0d0887\"],[0.1111111111111111,\"#46039f\"],[0.2222222222222222,\"#7201a8\"],[0.3333333333333333,\"#9c179e\"],[0.4444444444444444,\"#bd3786\"],[0.5555555555555556,\"#d8576b\"],[0.6666666666666666,\"#ed7953\"],[0.7777777777777778,\"#fb9f3a\"],[0.8888888888888888,\"#fdca26\"],[1.0,\"#f0f921\"]],\"type\":\"histogram2dcontour\"}],\"mesh3d\":[{\"colorbar\":{\"outlinewidth\":0,\"ticks\":\"\"},\"type\":\"mesh3d\"}],\"parcoords\":[{\"line\":{\"colorbar\":{\"outlinewidth\":0,\"ticks\":\"\"}},\"type\":\"parcoords\"}],\"pie\":[{\"automargin\":true,\"type\":\"pie\"}],\"scatter\":[{\"marker\":{\"colorbar\":{\"outlinewidth\":0,\"ticks\":\"\"}},\"type\":\"scatter\"}],\"scatter3d\":[{\"line\":{\"colorbar\":{\"outlinewidth\":0,\"ticks\":\"\"}},\"marker\":{\"colorbar\":{\"outlinewidth\":0,\"ticks\":\"\"}},\"type\":\"scatter3d\"}],\"scattercarpet\":[{\"marker\":{\"colorbar\":{\"outlinewidth\":0,\"ticks\":\"\"}},\"type\":\"scattercarpet\"}],\"scattergeo\":[{\"marker\":{\"colorbar\":{\"outlinewidth\":0,\"ticks\":\"\"}},\"type\":\"scattergeo\"}],\"scattergl\":[{\"marker\":{\"colorbar\":{\"outlinewidth\":0,\"ticks\":\"\"}},\"type\":\"scattergl\"}],\"scattermapbox\":[{\"marker\":{\"colorbar\":{\"outlinewidth\":0,\"ticks\":\"\"}},\"type\":\"scattermapbox\"}],\"scatterpolar\":[{\"marker\":{\"colorbar\":{\"outlinewidth\":0,\"ticks\":\"\"}},\"type\":\"scatterpolar\"}],\"scatterpolargl\":[{\"marker\":{\"colorbar\":{\"outlinewidth\":0,\"ticks\":\"\"}},\"type\":\"scatterpolargl\"}],\"scatterternary\":[{\"marker\":{\"colorbar\":{\"outlinewidth\":0,\"ticks\":\"\"}},\"type\":\"scatterternary\"}],\"surface\":[{\"colorbar\":{\"outlinewidth\":0,\"ticks\":\"\"},\"colorscale\":[[0.0,\"#0d0887\"],[0.1111111111111111,\"#46039f\"],[0.2222222222222222,\"#7201a8\"],[0.3333333333333333,\"#9c179e\"],[0.4444444444444444,\"#bd3786\"],[0.5555555555555556,\"#d8576b\"],[0.6666666666666666,\"#ed7953\"],[0.7777777777777778,\"#fb9f3a\"],[0.8888888888888888,\"#fdca26\"],[1.0,\"#f0f921\"]],\"type\":\"surface\"}],\"table\":[{\"cells\":{\"fill\":{\"color\":\"#EBF0F8\"},\"line\":{\"color\":\"white\"}},\"header\":{\"fill\":{\"color\":\"#C8D4E3\"},\"line\":{\"color\":\"white\"}},\"type\":\"table\"}]},\"layout\":{\"annotationdefaults\":{\"arrowcolor\":\"#2a3f5f\",\"arrowhead\":0,\"arrowwidth\":1},\"autotypenumbers\":\"strict\",\"coloraxis\":{\"colorbar\":{\"outlinewidth\":0,\"ticks\":\"\"}},\"colorscale\":{\"diverging\":[[0,\"#8e0152\"],[0.1,\"#c51b7d\"],[0.2,\"#de77ae\"],[0.3,\"#f1b6da\"],[0.4,\"#fde0ef\"],[0.5,\"#f7f7f7\"],[0.6,\"#e6f5d0\"],[0.7,\"#b8e186\"],[0.8,\"#7fbc41\"],[0.9,\"#4d9221\"],[1,\"#276419\"]],\"sequential\":[[0.0,\"#0d0887\"],[0.1111111111111111,\"#46039f\"],[0.2222222222222222,\"#7201a8\"],[0.3333333333333333,\"#9c179e\"],[0.4444444444444444,\"#bd3786\"],[0.5555555555555556,\"#d8576b\"],[0.6666666666666666,\"#ed7953\"],[0.7777777777777778,\"#fb9f3a\"],[0.8888888888888888,\"#fdca26\"],[1.0,\"#f0f921\"]],\"sequentialminus\":[[0.0,\"#0d0887\"],[0.1111111111111111,\"#46039f\"],[0.2222222222222222,\"#7201a8\"],[0.3333333333333333,\"#9c179e\"],[0.4444444444444444,\"#bd3786\"],[0.5555555555555556,\"#d8576b\"],[0.6666666666666666,\"#ed7953\"],[0.7777777777777778,\"#fb9f3a\"],[0.8888888888888888,\"#fdca26\"],[1.0,\"#f0f921\"]]},\"colorway\":[\"#636efa\",\"#EF553B\",\"#00cc96\",\"#ab63fa\",\"#FFA15A\",\"#19d3f3\",\"#FF6692\",\"#B6E880\",\"#FF97FF\",\"#FECB52\"],\"font\":{\"color\":\"#2a3f5f\"},\"geo\":{\"bgcolor\":\"white\",\"lakecolor\":\"white\",\"landcolor\":\"#E5ECF6\",\"showlakes\":true,\"showland\":true,\"subunitcolor\":\"white\"},\"hoverlabel\":{\"align\":\"left\"},\"hovermode\":\"closest\",\"mapbox\":{\"style\":\"light\"},\"paper_bgcolor\":\"white\",\"plot_bgcolor\":\"#E5ECF6\",\"polar\":{\"angularaxis\":{\"gridcolor\":\"white\",\"linecolor\":\"white\",\"ticks\":\"\"},\"bgcolor\":\"#E5ECF6\",\"radialaxis\":{\"gridcolor\":\"white\",\"linecolor\":\"white\",\"ticks\":\"\"}},\"scene\":{\"xaxis\":{\"backgroundcolor\":\"#E5ECF6\",\"gridcolor\":\"white\",\"gridwidth\":2,\"linecolor\":\"white\",\"showbackground\":true,\"ticks\":\"\",\"zerolinecolor\":\"white\"},\"yaxis\":{\"backgroundcolor\":\"#E5ECF6\",\"gridcolor\":\"white\",\"gridwidth\":2,\"linecolor\":\"white\",\"showbackground\":true,\"ticks\":\"\",\"zerolinecolor\":\"white\"},\"zaxis\":{\"backgroundcolor\":\"#E5ECF6\",\"gridcolor\":\"white\",\"gridwidth\":2,\"linecolor\":\"white\",\"showbackground\":true,\"ticks\":\"\",\"zerolinecolor\":\"white\"}},\"shapedefaults\":{\"line\":{\"color\":\"#2a3f5f\"}},\"ternary\":{\"aaxis\":{\"gridcolor\":\"white\",\"linecolor\":\"white\",\"ticks\":\"\"},\"baxis\":{\"gridcolor\":\"white\",\"linecolor\":\"white\",\"ticks\":\"\"},\"bgcolor\":\"#E5ECF6\",\"caxis\":{\"gridcolor\":\"white\",\"linecolor\":\"white\",\"ticks\":\"\"}},\"title\":{\"x\":0.05},\"xaxis\":{\"automargin\":true,\"gridcolor\":\"white\",\"linecolor\":\"white\",\"ticks\":\"\",\"title\":{\"standoff\":15},\"zerolinecolor\":\"white\",\"zerolinewidth\":2},\"yaxis\":{\"automargin\":true,\"gridcolor\":\"white\",\"linecolor\":\"white\",\"ticks\":\"\",\"title\":{\"standoff\":15},\"zerolinecolor\":\"white\",\"zerolinewidth\":2}}},\"xaxis\":{\"anchor\":\"y\",\"domain\":[0.0,1.0],\"title\":{\"text\":\"subreddit\"}},\"yaxis\":{\"anchor\":\"x\",\"domain\":[0.0,1.0],\"title\":{\"text\":\"score\"}},\"legend\":{\"tracegroupgap\":0},\"title\":{\"text\":\"Subreddits with most activity - comments with \\\"python\\\" in the last \\\"30d\\\"\"},\"barmode\":\"relative\",\"height\":500,\"width\":800},                        {\"responsive\": true}                    ).then(function(){\n",
       "                            \n",
       "var gd = document.getElementById('b98d9817-be68-4a54-a74f-e838428364e9');\n",
       "var x = new MutationObserver(function (mutations, observer) {{\n",
       "        var display = window.getComputedStyle(gd).display;\n",
       "        if (!display || display === 'none') {{\n",
       "            console.log([gd, 'removed!']);\n",
       "            Plotly.purge(gd);\n",
       "            observer.disconnect();\n",
       "        }}\n",
       "}});\n",
       "\n",
       "// Listen for the removal of the full notebook cells\n",
       "var notebookContainer = gd.closest('#notebook-container');\n",
       "if (notebookContainer) {{\n",
       "    x.observe(notebookContainer, {childList: true});\n",
       "}}\n",
       "\n",
       "// Listen for the clearing of the current output cell\n",
       "var outputEl = gd.closest('.output');\n",
       "if (outputEl) {{\n",
       "    x.observe(outputEl, {childList: true});\n",
       "}}\n",
       "\n",
       "                        })                };                });            </script>        </div>"
      ]
     },
     "metadata": {},
     "output_type": "display_data"
    }
   ],
   "source": [
    "# Step #6: Plot the Data Using Plotly\n",
    "import plotly.express as px\n",
    "\n",
    "# x subredits # original\n",
    "# y #comments # original\n",
    "\n",
    "xx = df['subreddit']\n",
    "yy = df['score']\n",
    "    \n",
    "# Value of 'x' is not the name of a column in 'data_frame'. \n",
    "#Expected one of ['author', 'subreddit', 'score', 'body', 'permalink'] but received: key\n",
    "\n",
    "px.bar(df,              # our dataframe\n",
    "       x=xx,#\"key\",         # x will be the 'key' column of the dataframe\n",
    "       y=yy,#doc_count\",   # y will be the 'doc_count' column of the dataframe\n",
    "       title=f'Subreddits with most activity - comments with \"{query}\" in the last \"{duration}\"',\n",
    "       labels={\"doc_count\": \"# comments\",\"key\": \"Subreddits\"}, # the axis names\n",
    "       color_discrete_sequence=[\"#1f77b4\"], # the colors used\n",
    "       height=500,\n",
    "       width=800)"
   ]
  },
  {
   "cell_type": "code",
   "execution_count": 3,
   "id": "53f88107",
   "metadata": {},
   "outputs": [
    {
     "data": {
      "text/html": [
       "<style type=\"text/css\">\n",
       "</style>\n",
       "<table id=\"T_f2e0e\">\n",
       "  <thead>\n",
       "    <tr>\n",
       "      <th class=\"blank level0\" >&nbsp;</th>\n",
       "      <th id=\"T_f2e0e_level0_col0\" class=\"col_heading level0 col0\" >author</th>\n",
       "      <th id=\"T_f2e0e_level0_col1\" class=\"col_heading level0 col1\" >subreddit</th>\n",
       "      <th id=\"T_f2e0e_level0_col2\" class=\"col_heading level0 col2\" >score</th>\n",
       "      <th id=\"T_f2e0e_level0_col3\" class=\"col_heading level0 col3\" >body</th>\n",
       "      <th id=\"T_f2e0e_level0_col4\" class=\"col_heading level0 col4\" >permalink</th>\n",
       "    </tr>\n",
       "  </thead>\n",
       "  <tbody>\n",
       "    <tr>\n",
       "      <th id=\"T_f2e0e_level0_row0\" class=\"row_heading level0 row0\" >0</th>\n",
       "      <td id=\"T_f2e0e_row0_col0\" class=\"data row0 col0\" >iamrifki</td>\n",
       "      <td id=\"T_f2e0e_row0_col1\" class=\"data row0 col1\" >neoliberal</td>\n",
       "      <td id=\"T_f2e0e_row0_col2\" class=\"data row0 col2\" >2</td>\n",
       "      <td id=\"T_f2e0e_row0_col3\" class=\"data row0 col3\" >Not everyone wants to code in C. I personally like it, but Python with Numpy is much better for AI stuff.\n",
       "\n",
       "I think there are also AIs that are interpreted in compiled languages....</td>\n",
       "      <td id=\"T_f2e0e_row0_col4\" class=\"data row0 col4\" ><a href=\"https://reddit.com/r/neoliberal/comments/x69k8f/discussion_thread/in5otqx/\">Link</a></td>\n",
       "    </tr>\n",
       "    <tr>\n",
       "      <th id=\"T_f2e0e_level0_row1\" class=\"row_heading level0 row1\" >1</th>\n",
       "      <td id=\"T_f2e0e_row1_col0\" class=\"data row1 col0\" >1Kiru</td>\n",
       "      <td id=\"T_f2e0e_row1_col1\" class=\"data row1 col1\" >teenagersbutpog</td>\n",
       "      <td id=\"T_f2e0e_row1_col2\" class=\"data row1 col2\" >2</td>\n",
       "      <td id=\"T_f2e0e_row1_col3\" class=\"data row1 col3\" >it has a shit ton of python stuff\n",
       "\n",
       "iidk but it seems like a bunch of useless code...</td>\n",
       "      <td id=\"T_f2e0e_row1_col4\" class=\"data row1 col4\" ><a href=\"https://reddit.com/r/teenagersbutpog/comments/x2tmpg/guys_um_i_got_mail_and_its_a_usb_should_i_put_it/imlo979/\">Link</a></td>\n",
       "    </tr>\n",
       "    <tr>\n",
       "      <th id=\"T_f2e0e_level0_row2\" class=\"row_heading level0 row2\" >2</th>\n",
       "      <td id=\"T_f2e0e_row2_col0\" class=\"data row2 col0\" >LeakyFaucett32</td>\n",
       "      <td id=\"T_f2e0e_row2_col1\" class=\"data row2 col1\" >reptiles</td>\n",
       "      <td id=\"T_f2e0e_row2_col2\" class=\"data row2 col2\" >2</td>\n",
       "      <td id=\"T_f2e0e_row2_col3\" class=\"data row2 col3\" >Ball python!...</td>\n",
       "      <td id=\"T_f2e0e_row2_col4\" class=\"data row2 col4\" ><a href=\"https://reddit.com/r/reptiles/comments/x79jac/never_buying_a_glass_enclosure_again/inbnf78/\">Link</a></td>\n",
       "    </tr>\n",
       "    <tr>\n",
       "      <th id=\"T_f2e0e_level0_row3\" class=\"row_heading level0 row3\" >3</th>\n",
       "      <td id=\"T_f2e0e_row3_col0\" class=\"data row3 col0\" >HexagonOfVirtue</td>\n",
       "      <td id=\"T_f2e0e_row3_col1\" class=\"data row3 col1\" >neoliberal</td>\n",
       "      <td id=\"T_f2e0e_row3_col2\" class=\"data row3 col2\" >2</td>\n",
       "      <td id=\"T_f2e0e_row3_col3\" class=\"data row3 col3\" >The actual number crunching isn’t done via python, instead, numpy and other libraries interface with other libraries like the MKL and OpenBLAS which are faster and not python....</td>\n",
       "      <td id=\"T_f2e0e_row3_col4\" class=\"data row3 col4\" ><a href=\"https://reddit.com/r/neoliberal/comments/x69k8f/discussion_thread/in5ox3i/\">Link</a></td>\n",
       "    </tr>\n",
       "    <tr>\n",
       "      <th id=\"T_f2e0e_level0_row4\" class=\"row_heading level0 row4\" >4</th>\n",
       "      <td id=\"T_f2e0e_row4_col0\" class=\"data row4 col0\" >chrisgarzon19</td>\n",
       "      <td id=\"T_f2e0e_row4_col1\" class=\"data row4 col1\" >dataengineering</td>\n",
       "      <td id=\"T_f2e0e_row4_col2\" class=\"data row4 col2\" >1</td>\n",
       "      <td id=\"T_f2e0e_row4_col3\" class=\"data row4 col3\" >1) Creating your own database is awesome! Make sure you’re doing it with best practices though - fact tables and dim tables with the appropriate primary and foreign keys \n",
       "\n",
       "2) I like leetcode, but don’t overstudy one part of the DE interview. SQL is king, but you can only study so much SQL to pass 1 out of the 5 rounds. No need to do 200 python leetcode questions either \n",
       "\n",
       "3) it’s hard to give you a...</td>\n",
       "      <td id=\"T_f2e0e_row4_col4\" class=\"data row4 col4\" ><a href=\"https://reddit.com/r/dataengineering/comments/x2dyni/data_engineering_mentorship/imji2pp/\">Link</a></td>\n",
       "    </tr>\n",
       "    <tr>\n",
       "      <th id=\"T_f2e0e_level0_row5\" class=\"row_heading level0 row5\" >5</th>\n",
       "      <td id=\"T_f2e0e_row5_col0\" class=\"data row5 col0\" >ExpensiveBeat14</td>\n",
       "      <td id=\"T_f2e0e_row5_col1\" class=\"data row5 col1\" >ti84hacks</td>\n",
       "      <td id=\"T_f2e0e_row5_col2\" class=\"data row5 col2\" >1</td>\n",
       "      <td id=\"T_f2e0e_row5_col3\" class=\"data row5 col3\" >I use the TI-84 Plus CE-T Python Edition, so this doesn't work for me?...</td>\n",
       "      <td id=\"T_f2e0e_row5_col4\" class=\"data row5 col4\" ><a href=\"https://reddit.com/r/ti84hacks/comments/utf2b4/disable_automatic_power_down_ti_84_plus/imji56y/\">Link</a></td>\n",
       "    </tr>\n",
       "    <tr>\n",
       "      <th id=\"T_f2e0e_level0_row6\" class=\"row_heading level0 row6\" >6</th>\n",
       "      <td id=\"T_f2e0e_row6_col0\" class=\"data row6 col0\" >razzbow1</td>\n",
       "      <td id=\"T_f2e0e_row6_col1\" class=\"data row6 col1\" >ProgrammerHumor</td>\n",
       "      <td id=\"T_f2e0e_row6_col2\" class=\"data row6 col2\" >1</td>\n",
       "      <td id=\"T_f2e0e_row6_col3\" class=\"data row6 col3\" >I forgot to renew my python library card...</td>\n",
       "      <td id=\"T_f2e0e_row6_col4\" class=\"data row6 col4\" ><a href=\"https://reddit.com/r/ProgrammerHumor/comments/x2etws/it_just_keeps_happening/imjmgpd/\">Link</a></td>\n",
       "    </tr>\n",
       "    <tr>\n",
       "      <th id=\"T_f2e0e_level0_row7\" class=\"row_heading level0 row7\" >7</th>\n",
       "      <td id=\"T_f2e0e_row7_col0\" class=\"data row7 col0\" >monkeypreen</td>\n",
       "      <td id=\"T_f2e0e_row7_col1\" class=\"data row7 col1\" >Python</td>\n",
       "      <td id=\"T_f2e0e_row7_col2\" class=\"data row7 col2\" >1</td>\n",
       "      <td id=\"T_f2e0e_row7_col3\" class=\"data row7 col3\" >Georgia tech edx has an intro to computer science course taught via Python that's relatively low cost....</td>\n",
       "      <td id=\"T_f2e0e_row7_col4\" class=\"data row7 col4\" ><a href=\"https://reddit.com/r/Python/comments/x2ffie/newbie/imjjbj2/\">Link</a></td>\n",
       "    </tr>\n",
       "    <tr>\n",
       "      <th id=\"T_f2e0e_level0_row8\" class=\"row_heading level0 row8\" >8</th>\n",
       "      <td id=\"T_f2e0e_row8_col0\" class=\"data row8 col0\" >dfphd</td>\n",
       "      <td id=\"T_f2e0e_row8_col1\" class=\"data row8 col1\" >datascience</td>\n",
       "      <td id=\"T_f2e0e_row8_col2\" class=\"data row8 col2\" >1</td>\n",
       "      <td id=\"T_f2e0e_row8_col3\" class=\"data row8 col3\" >Here's the thing: if your goal as a company is to eventually have a full-fledged data science team, you are better off getting data scientists into your org early and let them start laying the groundwork for that team than you are letting a bunch of analysts start doing the work and bringing data scientists in later. And that's mostly because data analysts are not going to be looking to lay any gr...</td>\n",
       "      <td id=\"T_f2e0e_row8_col4\" class=\"data row8 col4\" ><a href=\"https://reddit.com/r/datascience/comments/x1zh3d/big_problem_with_companies_now_is_they_hire_data/imjjfem/\">Link</a></td>\n",
       "    </tr>\n",
       "    <tr>\n",
       "      <th id=\"T_f2e0e_level0_row9\" class=\"row_heading level0 row9\" >9</th>\n",
       "      <td id=\"T_f2e0e_row9_col0\" class=\"data row9 col0\" >watchmaker82</td>\n",
       "      <td id=\"T_f2e0e_row9_col1\" class=\"data row9 col1\" >antiwork</td>\n",
       "      <td id=\"T_f2e0e_row9_col2\" class=\"data row9 col2\" >1</td>\n",
       "      <td id=\"T_f2e0e_row9_col3\" class=\"data row9 col3\" >In addition to mercyfuck:\n",
       "\n",
       "So what by Metallica (or the anti nowhere league)\n",
       "\n",
       "Tie my pecker to my leg by mojo nixon\n",
       "\n",
       "Never be rude to an Arab by Monty Python...</td>\n",
       "      <td id=\"T_f2e0e_row9_col4\" class=\"data row9 col4\" ><a href=\"https://reddit.com/r/antiwork/comments/x27xt1/i_have_mandatory_work_funtime_after_office_hours/imjjjj4/\">Link</a></td>\n",
       "    </tr>\n",
       "  </tbody>\n",
       "</table>\n"
      ],
      "text/plain": [
       "<pandas.io.formats.style.Styler at 0x2c0ca8af2b0>"
      ]
     },
     "execution_count": 3,
     "metadata": {},
     "output_type": "execute_result"
    }
   ],
   "source": [
    "# Step #7: Find the Most Up-Voted Comments\t   \n",
    "# Call the API\n",
    "data = get_pushshift_data(data_type=data_type,\n",
    "                          q=query,\n",
    "                          after=\"7d\",\n",
    "                          size=10,\n",
    "                          sort_type=sort_type,\n",
    "                          sort=sort).get(\"data\")\n",
    " \n",
    "# Select the columns you care about\n",
    "df = pd.DataFrame.from_records(data)[[\"author\", \"subreddit\", \"score\", \"body\", \"permalink\"]]\n",
    " \n",
    "# Keep the first 400 characters\n",
    "df['body'] = df['body'].str[0:400] + \"...\"\n",
    " \n",
    "# Append the string to all the permalink entries so that we have a link to the comment\n",
    "df['permalink'] = \"https://reddit.com\" + df['permalink'].astype(str)\n",
    " \n",
    " \n",
    "# Create a function to make the link to be clickable and style the last column\n",
    "def make_clickable(val):\n",
    "    \"\"\" Makes a pandas column clickable by wrapping it in some html.\n",
    "    \"\"\"\n",
    "    return '<a href=\"{}\">Link</a>'.format(val,val)\n",
    " \n",
    " \n",
    "df.style.format({'permalink': make_clickable})\n"
   ]
  },
  {
   "cell_type": "code",
   "execution_count": null,
   "id": "ae3840f8",
   "metadata": {},
   "outputs": [],
   "source": []
  }
 ],
 "metadata": {
  "kernelspec": {
   "display_name": "Python 3 (ipykernel)",
   "language": "python",
   "name": "python3"
  },
  "language_info": {
   "codemirror_mode": {
    "name": "ipython",
    "version": 3
   },
   "file_extension": ".py",
   "mimetype": "text/x-python",
   "name": "python",
   "nbconvert_exporter": "python",
   "pygments_lexer": "ipython3",
   "version": "3.9.12"
  }
 },
 "nbformat": 4,
 "nbformat_minor": 5
}
